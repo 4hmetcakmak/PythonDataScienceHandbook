{
  "nbformat": 4,
  "nbformat_minor": 0,
  "metadata": {
    "colab": {
      "name": "12.04calsswork.ipynb",
      "provenance": [],
      "collapsed_sections": [],
      "authorship_tag": "ABX9TyNckhsZaRh1Vn1RjAjHxs7w",
      "include_colab_link": true
    },
    "kernelspec": {
      "name": "python3",
      "display_name": "Python 3"
    },
    "language_info": {
      "name": "python"
    }
  },
  "cells": [
    {
      "cell_type": "markdown",
      "metadata": {
        "id": "view-in-github",
        "colab_type": "text"
      },
      "source": [
        "<a href=\"https://colab.research.google.com/github/4hmetcakmak/PythonDataScienceHandbook/blob/master/12_04calsswork.ipynb\" target=\"_parent\"><img src=\"https://colab.research.google.com/assets/colab-badge.svg\" alt=\"Open In Colab\"/></a>"
      ]
    },
    {
      "cell_type": "code",
      "execution_count": null,
      "metadata": {
        "colab": {
          "base_uri": "https://localhost:8080/"
        },
        "id": "R2RApRtzUUjY",
        "outputId": "f69b9ade-aeeb-4dcd-8b1d-243d8190b1aa"
      },
      "outputs": [
        {
          "output_type": "execute_result",
          "data": {
            "text/plain": [
              "['alt.atheism',\n",
              " 'comp.graphics',\n",
              " 'comp.os.ms-windows.misc',\n",
              " 'comp.sys.ibm.pc.hardware',\n",
              " 'comp.sys.mac.hardware',\n",
              " 'comp.windows.x',\n",
              " 'misc.forsale',\n",
              " 'rec.autos',\n",
              " 'rec.motorcycles',\n",
              " 'rec.sport.baseball',\n",
              " 'rec.sport.hockey',\n",
              " 'sci.crypt',\n",
              " 'sci.electronics',\n",
              " 'sci.med',\n",
              " 'sci.space',\n",
              " 'soc.religion.christian',\n",
              " 'talk.politics.guns',\n",
              " 'talk.politics.mideast',\n",
              " 'talk.politics.misc',\n",
              " 'talk.religion.misc']"
            ]
          },
          "metadata": {},
          "execution_count": 1
        }
      ],
      "source": [
        "%matplotlib inline\n",
        "import numpy as np\n",
        "import matplotlib.pyplot as plt\n",
        "import seaborn as sns; sns.set()\n",
        "from sklearn.datasets import fetch_20newsgroups \n",
        "\n",
        "data = fetch_20newsgroups() \n",
        "data.target_names"
      ]
    },
    {
      "cell_type": "code",
      "source": [
        "categories=[\"rec.autos\", \"sci.med\",\"misc.forsale\",\"rec.motorcycles\",\"sci.crypt\"]\n",
        "train = fetch_20newsgroups(subset='train', categories=categories) \n",
        "test = fetch_20newsgroups(subset='test', categories=categories)"
      ],
      "metadata": {
        "id": "A9bGd9MRUj63"
      },
      "execution_count": null,
      "outputs": []
    },
    {
      "cell_type": "code",
      "source": [
        "from sklearn.feature_extraction.text import CountVectorizer\n",
        "from sklearn.naive_bayes import MultinomialNB \n",
        "from sklearn.pipeline import make_pipeline \n",
        "\n",
        "model = make_pipeline(CountVectorizer(), MultinomialNB())"
      ],
      "metadata": {
        "id": "Cqv0RNYqVJP-"
      },
      "execution_count": null,
      "outputs": []
    },
    {
      "cell_type": "code",
      "source": [
        "from sklearn.feature_extraction.text import TfidfVectorizer\n",
        "from sklearn.naive_bayes import MultinomialNB \n",
        "from sklearn.pipeline import make_pipeline \n",
        "\n",
        "model1 = make_pipeline(TfidfVectorizer(), MultinomialNB())"
      ],
      "metadata": {
        "id": "DwBV0yRZYIy0"
      },
      "execution_count": null,
      "outputs": []
    },
    {
      "cell_type": "code",
      "source": [
        "model.fit(train.data, train.target) #count\n",
        "labels = model.predict(test.data)"
      ],
      "metadata": {
        "id": "LkYOlqpzVVos"
      },
      "execution_count": null,
      "outputs": []
    },
    {
      "cell_type": "code",
      "source": [
        "model1.fit(train.data, train.target) #tfid\n",
        "labels1 = model1.predict(test.data)"
      ],
      "metadata": {
        "id": "6Qpx5MqbYTun"
      },
      "execution_count": null,
      "outputs": []
    },
    {
      "cell_type": "code",
      "source": [
        "from sklearn.metrics import confusion_matrix #Count\n",
        "mat = confusion_matrix(test.target, labels)\n",
        "sns.heatmap(mat.T, square=True, annot=True, fmt='d', cbar=False,\n",
        "            xticklabels=train.target_names, yticklabels=train.target_names)\n",
        "plt.xlabel('true label')\n",
        "plt.ylabel('predicted label');"
      ],
      "metadata": {
        "colab": {
          "base_uri": "https://localhost:8080/",
          "height": 363
        },
        "id": "E0azVrQ0V4TW",
        "outputId": "46427199-b2d8-4d70-e136-92bb73c52443"
      },
      "execution_count": null,
      "outputs": [
        {
          "output_type": "display_data",
          "data": {
            "text/plain": [
              "<Figure size 432x288 with 1 Axes>"
            ],
            "image/png": "[encoded data removed]"
          },
          "metadata": {
            "needs_background": "light"
          }
        }
      ]
    },
    {
      "cell_type": "code",
      "source": [
        "from sklearn.metrics import confusion_matrix  #TF-ID \n",
        "mat1 = confusion_matrix(test.target, labels1)\n",
        "sns.heatmap(mat1.T, square=True, annot=True, fmt='d', cbar=False,\n",
        "            xticklabels=train.target_names, yticklabels=train.target_names)\n",
        "plt.xlabel('true label')\n",
        "plt.ylabel('predicted label');"
      ],
      "metadata": {
        "colab": {
          "base_uri": "https://localhost:8080/",
          "height": 363
        },
        "id": "FUlDHsFIYZaY",
        "outputId": "cbab242e-f876-4f8d-9fcc-f1d32d9ee6bd"
      },
      "execution_count": null,
      "outputs": [
        {
          "output_type": "display_data",
          "data": {
            "text/plain": [
              "<Figure size 432x288 with 1 Axes>"
            ],
            "image/png": "[encoded data removed]"
          },
          "metadata": {
            "needs_background": "light"
          }
        }
      ]
    },
    {
      "cell_type": "code",
      "source": [
        "def predict_category(s, train=train, model=model): #count\n",
        "    pred = model.predict([s]) \n",
        "    return train.target_names[pred[0]]"
      ],
      "metadata": {
        "id": "yLgWGyFcVZsc"
      },
      "execution_count": null,
      "outputs": []
    },
    {
      "cell_type": "code",
      "source": [
        "predict_category(\"can ı buy a vehicle with bitcoin?\") #count"
      ],
      "metadata": {
        "colab": {
          "base_uri": "https://localhost:8080/",
          "height": 35
        },
        "id": "neSzfeQFVgbc",
        "outputId": "48bb19ec-0f5b-4a8d-f189-8661d5abc208"
      },
      "execution_count": null,
      "outputs": [
        {
          "output_type": "execute_result",
          "data": {
            "text/plain": [
              "'rec.autos'"
            ],
            "application/vnd.google.colaboratory.intrinsic+json": {
              "type": "string"
            }
          },
          "metadata": {},
          "execution_count": 12
        }
      ]
    },
    {
      "cell_type": "code",
      "source": [
        "predict_category(\"can ı buy a vehicle with bitcoin?\", train=train, model=model1) #TF-ID"
      ],
      "metadata": {
        "colab": {
          "base_uri": "https://localhost:8080/",
          "height": 35
        },
        "id": "fZOOg-voZAlx",
        "outputId": "9ac60293-53d2-4822-ae0e-5f7e927fcccf"
      },
      "execution_count": null,
      "outputs": [
        {
          "output_type": "execute_result",
          "data": {
            "text/plain": [
              "'rec.autos'"
            ],
            "application/vnd.google.colaboratory.intrinsic+json": {
              "type": "string"
            }
          },
          "metadata": {},
          "execution_count": 13
        }
      ]
    },
    {
      "cell_type": "code",
      "source": [
        "from sklearn.metrics import accuracy_score #count\n",
        "print(accuracy_score(test.target, labels))"
      ],
      "metadata": {
        "colab": {
          "base_uri": "https://localhost:8080/"
        },
        "id": "WLE7k9sonk5q",
        "outputId": "3058d9bc-a026-422c-ddae-17e15118142d"
      },
      "execution_count": null,
      "outputs": [
        {
          "output_type": "stream",
          "name": "stdout",
          "text": [
            "0.9468623481781376\n"
          ]
        }
      ]
    },
    {
      "cell_type": "code",
      "source": [
        "from sklearn.metrics import accuracy_score #TF-ID\n",
        "print(accuracy_score(test.target, labels1))"
      ],
      "metadata": {
        "colab": {
          "base_uri": "https://localhost:8080/"
        },
        "id": "Uw3nqEZmoZLB",
        "outputId": "b53eaae2-f632-4578-d07f-762e0ea91913"
      },
      "execution_count": null,
      "outputs": [
        {
          "output_type": "stream",
          "name": "stdout",
          "text": [
            "0.9245951417004049\n"
          ]
        }
      ]
    },
    {
      "cell_type": "markdown",
      "source": [
        "BELİRLEDİĞİM KATEGORİLER BAZINDA COUNT VECTORTÜ DAHA BAŞARILI SONUÇ VERDİ MULTİNOMİAL NAİVE MODELDE."
      ],
      "metadata": {
        "id": "HveQpIeTofNx"
      }
    }
  ]
}