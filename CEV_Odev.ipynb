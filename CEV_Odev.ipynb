{
  "nbformat": 4,
  "nbformat_minor": 0,
  "metadata": {
    "colab": {
      "name": "CEV_Odev.ipynb",
      "provenance": [],
      "collapsed_sections": [],
      "authorship_tag": "ABX9TyO0xb21T6Rkof/mw2zj6izi",
      "include_colab_link": true
    },
    "kernelspec": {
      "name": "python3",
      "display_name": "Python 3"
    },
    "language_info": {
      "name": "python"
    }
  },
  "cells": [
    {
      "cell_type": "markdown",
      "metadata": {
        "id": "view-in-github",
        "colab_type": "text"
      },
      "source": [
        "<a href=\"https://colab.research.google.com/github/4hmetcakmak/PythonDataScienceHandbook/blob/master/CEV_Odev.ipynb\" target=\"_parent\"><img src=\"https://colab.research.google.com/assets/colab-badge.svg\" alt=\"Open In Colab\"/></a>"
      ]
    },
    {
      "cell_type": "markdown",
      "source": [
        "**Task1-a**"
      ],
      "metadata": {
        "id": "dpGDp5Kmt1Uw"
      }
    },
    {
      "cell_type": "code",
      "source": [
        "import numpy as np"
      ],
      "metadata": {
        "id": "eOg1GPv8t8pe"
      },
      "execution_count": null,
      "outputs": []
    },
    {
      "cell_type": "code",
      "execution_count": null,
      "metadata": {
        "id": "Bw4yHnl8rzB3"
      },
      "outputs": [],
      "source": [
        "def sumofnegative(x):\n",
        "  if int(x)>0:\n",
        "     print(\"Code isn't work.\")\n",
        "  sum=0\n",
        "  for i in range(-1,int(x)):\n",
        "    sum+= i\n",
        "    print(str(sum))"
      ]
    },
    {
      "cell_type": "markdown",
      "source": [
        "**TASK-1B**"
      ],
      "metadata": {
        "id": "zJUTFLmiwm1A"
      }
    },
    {
      "cell_type": "code",
      "source": [
        "def fact(x):\n",
        "  sum=1\n",
        "  for i in range(1,x+1):\n",
        "    sum=sum*i\n",
        "    print(str(sum))"
      ],
      "metadata": {
        "id": "KD_ntbqiwrdA"
      },
      "execution_count": null,
      "outputs": []
    },
    {
      "cell_type": "code",
      "source": [
        "fact(5)"
      ],
      "metadata": {
        "colab": {
          "base_uri": "https://localhost:8080/"
        },
        "id": "XKgHNHJq1iU1",
        "outputId": "b738e18f-8904-41fe-f294-f4a131101f62"
      },
      "execution_count": null,
      "outputs": [
        {
          "output_type": "stream",
          "name": "stdout",
          "text": [
            "1\n",
            "2\n",
            "6\n",
            "24\n",
            "120\n"
          ]
        }
      ]
    },
    {
      "cell_type": "markdown",
      "source": [
        "**TASK-1C**\n"
      ],
      "metadata": {
        "id": "VcubYuh42yrZ"
      }
    },
    {
      "cell_type": "code",
      "source": [
        "x=np.random.randint(1,49, (6,8)) #burada doğru size değerleri girilmezse üretmez veyahut size değerlerinin yerleri\n",
        "#yanlış girilirse üretmez\n",
        "x"
      ],
      "metadata": {
        "colab": {
          "base_uri": "https://localhost:8080/"
        },
        "id": "FgbVSfSn2191",
        "outputId": "df879ddb-9f1a-44b4-e7b5-43f3c9c74d2e"
      },
      "execution_count": null,
      "outputs": [
        {
          "output_type": "execute_result",
          "data": {
            "text/plain": [
              "array([[ 1, 33, 35, 32, 32,  9,  1,  8],\n",
              "       [ 8, 25, 13, 22, 37, 40,  8, 19],\n",
              "       [40, 41, 13,  5, 10, 22, 12, 46],\n",
              "       [22, 11, 25, 48, 25, 48, 11, 26],\n",
              "       [23, 46, 37, 10, 44, 30, 36, 40],\n",
              "       [46, 48, 15, 35, 11, 29, 40, 46]])"
            ]
          },
          "metadata": {},
          "execution_count": 56
        }
      ]
    },
    {
      "cell_type": "markdown",
      "source": [
        "**TASK-1D**"
      ],
      "metadata": {
        "id": "Vk1f_itV3Zyf"
      }
    },
    {
      "cell_type": "code",
      "source": [
        "y=np.arange(1,100)\n",
        "x=y[y%2==1].reshape((5,10))\n",
        "x"
      ],
      "metadata": {
        "colab": {
          "base_uri": "https://localhost:8080/"
        },
        "id": "NvVXm0TW3dRN",
        "outputId": "684db1ac-a7db-44be-d681-623862e4922c"
      },
      "execution_count": null,
      "outputs": [
        {
          "output_type": "execute_result",
          "data": {
            "text/plain": [
              "array([[ 1,  3,  5,  7,  9, 11, 13, 15, 17, 19],\n",
              "       [21, 23, 25, 27, 29, 31, 33, 35, 37, 39],\n",
              "       [41, 43, 45, 47, 49, 51, 53, 55, 57, 59],\n",
              "       [61, 63, 65, 67, 69, 71, 73, 75, 77, 79],\n",
              "       [81, 83, 85, 87, 89, 91, 93, 95, 97, 99]])"
            ]
          },
          "metadata": {},
          "execution_count": 65
        }
      ]
    },
    {
      "cell_type": "markdown",
      "source": [
        "**TASK-1E**"
      ],
      "metadata": {
        "id": "e_nC9UVy5kzL"
      }
    },
    {
      "cell_type": "code",
      "source": [
        "a= np.linspace(0,100, endpoint=True)\n",
        "a\n",
        "b=np.random.rand(10, 5)\n",
        "%matplotlib inline \n",
        "import matplotlib.pyplot as plt\n",
        "import seaborn; seaborn.set()\n",
        "plt.scatter(a, b, s=100)"
      ],
      "metadata": {
        "id": "8n6SbEoR5mu3",
        "colab": {
          "base_uri": "https://localhost:8080/",
          "height": 285
        },
        "outputId": "7009d679-c413-4c02-c0a4-4771f05120ea"
      },
      "execution_count": null,
      "outputs": [
        {
          "output_type": "execute_result",
          "data": {
            "text/plain": [
              "<matplotlib.collections.PathCollection at 0x7f9132863b50>"
            ]
          },
          "metadata": {},
          "execution_count": 72
        },
        {
          "output_type": "display_data",
          "data": {
            "image/png": "[encoded data removed]",
            "text/plain": [
              "<Figure size 432x288 with 1 Axes>"
            ]
          },
          "metadata": {}
        }
      ]
    },
    {
      "cell_type": "code",
      "source": [
        "a.size"
      ],
      "metadata": {
        "colab": {
          "base_uri": "https://localhost:8080/"
        },
        "id": "WUcPOBkOLGDD",
        "outputId": "20d47fc1-f5a8-4379-9eb5-771a92c70269"
      },
      "execution_count": null,
      "outputs": [
        {
          "output_type": "execute_result",
          "data": {
            "text/plain": [
              "50"
            ]
          },
          "metadata": {},
          "execution_count": 69
        }
      ]
    },
    {
      "cell_type": "markdown",
      "source": [
        "**TASK-2A**"
      ],
      "metadata": {
        "id": "NkWj1APU8rFv"
      }
    },
    {
      "cell_type": "code",
      "source": [
        "x=np.arange(100).reshape((10,10))\n",
        "y,z =np.split(x,2)\n",
        "y\n",
        "z\n",
        "t,c = np.split(x,2,axis=1)\n",
        "t\n",
        "c\n",
        "x=np.concatenate([y,z])\n",
        "x"
      ],
      "metadata": {
        "colab": {
          "base_uri": "https://localhost:8080/"
        },
        "id": "FVi9z-8H8uoM",
        "outputId": "ed22ea95-fff2-40b5-fd91-7c671df88b13"
      },
      "execution_count": null,
      "outputs": [
        {
          "output_type": "execute_result",
          "data": {
            "text/plain": [
              "array([[ 0,  1,  2,  3,  4,  5,  6,  7,  8,  9],\n",
              "       [10, 11, 12, 13, 14, 15, 16, 17, 18, 19],\n",
              "       [20, 21, 22, 23, 24, 25, 26, 27, 28, 29],\n",
              "       [30, 31, 32, 33, 34, 35, 36, 37, 38, 39],\n",
              "       [40, 41, 42, 43, 44, 45, 46, 47, 48, 49],\n",
              "       [50, 51, 52, 53, 54, 55, 56, 57, 58, 59],\n",
              "       [60, 61, 62, 63, 64, 65, 66, 67, 68, 69],\n",
              "       [70, 71, 72, 73, 74, 75, 76, 77, 78, 79],\n",
              "       [80, 81, 82, 83, 84, 85, 86, 87, 88, 89],\n",
              "       [90, 91, 92, 93, 94, 95, 96, 97, 98, 99]])"
            ]
          },
          "metadata": {},
          "execution_count": 96
        }
      ]
    },
    {
      "cell_type": "markdown",
      "source": [
        "**TASK-2B**"
      ],
      "metadata": {
        "id": "NAlCcaPL_kDl"
      }
    },
    {
      "cell_type": "code",
      "source": [
        "import numpy as np\n",
        "mu, sigma= 50, 15\n",
        "def exArray():\n",
        "  count=0\n",
        "  a=np.random.normal(mu, sigma,(3,4,5))\n",
        "  for i in range(5):\n",
        "    for j in range(4):\n",
        "      for q in range(3):\n",
        "        if (a[q][j][i]>75):\n",
        "          count=count+1\n",
        "\n",
        "exArray=np.vectorize(exArray, otypes=[np.float64])\n",
        "exArray()"
      ],
      "metadata": {
        "id": "g9_y9CwD_m-z"
      },
      "execution_count": null,
      "outputs": []
    },
    {
      "cell_type": "code",
      "source": [
        "a[a>75]"
      ],
      "metadata": {
        "colab": {
          "base_uri": "https://localhost:8080/"
        },
        "id": "bSVxZCTYHAlv",
        "outputId": "2b44f810-341b-45a6-db61-ed33d7e30a20"
      },
      "execution_count": null,
      "outputs": [
        {
          "output_type": "execute_result",
          "data": {
            "text/plain": [
              "array([ 75.51020408,  77.55102041,  79.59183673,  81.63265306,\n",
              "        83.67346939,  85.71428571,  87.75510204,  89.79591837,\n",
              "        91.83673469,  93.87755102,  95.91836735,  97.95918367,\n",
              "       100.        ])"
            ]
          },
          "metadata": {},
          "execution_count": 65
        }
      ]
    },
    {
      "cell_type": "markdown",
      "source": [
        "**Task-2c**"
      ],
      "metadata": {
        "id": "4J17ASamA2zl"
      }
    },
    {
      "cell_type": "code",
      "source": [
        "def rnd_ch(x):\n",
        "  return np.random.choice(x)\n",
        "x=np.random.randint(1,100,(3,4))\n",
        "a=np.ravel(x)\n",
        "a\n",
        "rnd_ch(a)"
      ],
      "metadata": {
        "id": "5UvMO1tuA9UA",
        "colab": {
          "base_uri": "https://localhost:8080/"
        },
        "outputId": "dbd2ef52-6baf-4abc-e795-3004d5e45ff9"
      },
      "execution_count": null,
      "outputs": [
        {
          "output_type": "execute_result",
          "data": {
            "text/plain": [
              "55"
            ]
          },
          "metadata": {},
          "execution_count": 38
        }
      ]
    },
    {
      "cell_type": "markdown",
      "source": [
        "**TASK-2D**"
      ],
      "metadata": {
        "id": "dRY_uk-eEBNW"
      }
    },
    {
      "cell_type": "code",
      "source": [
        "import pandas as pd \n",
        "df=pd.read_csv(\"https://raw.githubusercontent.com/jakevdp/PythonDataScienceHandbook/master/notebooks/data/president_heights.csv\")[\"height(cm)\"]\n",
        "print(\"The shortest president: \", df.min())\n",
        "print(\"The longest president: \", df.max())\n",
        "print(\"Average heights of presidents: \", df.mean())\n",
        "print(\"Standart deviation:\", df.std())"
      ],
      "metadata": {
        "colab": {
          "base_uri": "https://localhost:8080/"
        },
        "id": "SvrfCgu8EEKM",
        "outputId": "151dc918-77e3-4b4d-cdf2-0759d29610a5"
      },
      "execution_count": null,
      "outputs": [
        {
          "output_type": "stream",
          "name": "stdout",
          "text": [
            "The shortest president:  163\n",
            "The longest president:  193\n",
            "Average heights of presidents:  179.73809523809524\n",
            "Standart deviation: 7.015868855358296\n"
          ]
        }
      ]
    },
    {
      "cell_type": "code",
      "source": [
        "df"
      ],
      "metadata": {
        "colab": {
          "base_uri": "https://localhost:8080/"
        },
        "id": "QfVxRscIGrUI",
        "outputId": "cc42fca6-1472-492b-870e-96e2bf840d87"
      },
      "execution_count": null,
      "outputs": [
        {
          "output_type": "execute_result",
          "data": {
            "text/plain": [
              "0     189\n",
              "1     170\n",
              "2     189\n",
              "3     163\n",
              "4     183\n",
              "5     171\n",
              "6     185\n",
              "7     168\n",
              "8     173\n",
              "9     183\n",
              "10    173\n",
              "11    173\n",
              "12    175\n",
              "13    178\n",
              "14    183\n",
              "15    193\n",
              "16    178\n",
              "17    173\n",
              "18    174\n",
              "19    183\n",
              "20    183\n",
              "21    168\n",
              "22    170\n",
              "23    178\n",
              "24    182\n",
              "25    180\n",
              "26    183\n",
              "27    178\n",
              "28    182\n",
              "29    188\n",
              "30    175\n",
              "31    179\n",
              "32    183\n",
              "33    193\n",
              "34    182\n",
              "35    183\n",
              "36    177\n",
              "37    185\n",
              "38    188\n",
              "39    188\n",
              "40    182\n",
              "41    185\n",
              "Name: height(cm), dtype: int64"
            ]
          },
          "metadata": {},
          "execution_count": 127
        }
      ]
    },
    {
      "cell_type": "code",
      "source": [
        "?plt.hist() #burada etiketdüzenlerine bakmak için yaptım ama bulamadım hocam argüamnı "
      ],
      "metadata": {
        "id": "L1f3gC_BH74i"
      },
      "execution_count": null,
      "outputs": []
    },
    {
      "cell_type": "code",
      "source": [
        "%matplotlib inline \n",
        "import matplotlib.pyplot as plt\n",
        "plt.hist(df, bins=5)\n",
        "plt.show()"
      ],
      "metadata": {
        "colab": {
          "base_uri": "https://localhost:8080/",
          "height": 265
        },
        "id": "E9GP1qj4GPWR",
        "outputId": "54140f55-2bea-4a2e-87dd-40fa53d64b09"
      },
      "execution_count": null,
      "outputs": [
        {
          "output_type": "display_data",
          "data": {
            "image/png": "[encoded data removed]",
            "text/plain": [
              "<Figure size 432x288 with 1 Axes>"
            ]
          },
          "metadata": {
            "needs_background": "light"
          }
        }
      ]
    },
    {
      "cell_type": "markdown",
      "source": [
        "**TASK-2E**"
      ],
      "metadata": {
        "id": "a9sss8gwIdLF"
      }
    },
    {
      "cell_type": "code",
      "source": [
        "import pandas as pd\n",
        "df=pd.read_csv(\"sample_data/california_housing_train.csv\")[\"median_income\"]\n",
        "df\n",
        "descriptive_statistics=df.describe().T\n",
        "descriptive_statistics"
      ],
      "metadata": {
        "id": "azZ6a0mxIgal",
        "colab": {
          "base_uri": "https://localhost:8080/"
        },
        "outputId": "6c4ea56e-bafc-45f7-a006-5285035b3dd2"
      },
      "execution_count": null,
      "outputs": [
        {
          "output_type": "execute_result",
          "data": {
            "text/plain": [
              "count    17000.000000\n",
              "mean         3.883578\n",
              "std          1.908157\n",
              "min          0.499900\n",
              "25%          2.566375\n",
              "50%          3.544600\n",
              "75%          4.767000\n",
              "max         15.000100\n",
              "Name: median_income, dtype: float64"
            ]
          },
          "metadata": {},
          "execution_count": 144
        }
      ]
    },
    {
      "cell_type": "code",
      "source": [
        "%matplotlib inline \n",
        "import matplotlib.pyplot as plt\n",
        "plt.hist(df)\n",
        "plt.show()"
      ],
      "metadata": {
        "colab": {
          "base_uri": "https://localhost:8080/",
          "height": 265
        },
        "id": "yZCmqT-AWkDh",
        "outputId": "bdc3b011-200d-47f9-db33-b79361188864"
      },
      "execution_count": null,
      "outputs": [
        {
          "output_type": "display_data",
          "data": {
            "image/png": "[encoded data removed]",
            "text/plain": [
              "<Figure size 432x288 with 1 Axes>"
            ]
          },
          "metadata": {
            "needs_background": "light"
          }
        }
      ]
    },
    {
      "cell_type": "markdown",
      "source": [
        "**TASK-2F**"
      ],
      "metadata": {
        "id": "LCStCi48W1g9"
      }
    },
    {
      "cell_type": "code",
      "source": [
        "a #sonraki ile karşılaştırabilmeniz için koydum bunu hocam "
      ],
      "metadata": {
        "colab": {
          "base_uri": "https://localhost:8080/"
        },
        "id": "xzJenujPYvnK",
        "outputId": "09ac0b61-5d60-42d7-c2f2-c41c0e1ee721"
      },
      "execution_count": null,
      "outputs": [
        {
          "output_type": "execute_result",
          "data": {
            "text/plain": [
              "array([60, 12, 81, 82, 40, 84, 33, 50, 52, 65, 41,  5, 95, 49, 61, 12, 43,\n",
              "       99, 62, 87, 55, 55, 68, 61, 80, 33, 80, 45, 92, 89, 69, 93, 23, 67,\n",
              "        6, 81, 32, 73, 32, 28, 53, 59,  1,  3, 53,  9, 81, 36, 76, 76, 59,\n",
              "       90, 33,  0, 41, 21, 96, 52,  1, 75, 82,  8, 42, 39, 25, 49, 86, 64,\n",
              "       43, 61, 95, 57, 72, 47, 54, 98, 12, 88, 90,  6, 21, 59, 36, 15, 12,\n",
              "        9, 72,  2, 10, 90,  8, 48, 18, 74,  3,  7, 83, 59,  4, 54])"
            ]
          },
          "metadata": {},
          "execution_count": 160
        }
      ]
    },
    {
      "cell_type": "code",
      "source": [
        "import numpy as np\n",
        "a=np.random.randint(0,100,100)\n",
        "average_a=a.mean()\n",
        "x=np.where(a>average_a) "
      ],
      "metadata": {
        "colab": {
          "base_uri": "https://localhost:8080/"
        },
        "id": "GSJyv1yVW4iu",
        "outputId": "62d55cc7-2c89-4f94-96d6-3df968411be1"
      },
      "execution_count": null,
      "outputs": [
        {
          "output_type": "execute_result",
          "data": {
            "text/plain": [
              "(array([ 0,  2,  3,  5,  7,  8,  9, 12, 14, 17, 18, 19, 20, 21, 22, 23, 24,\n",
              "        26, 28, 29, 30, 31, 33, 35, 37, 40, 41, 44, 46, 48, 49, 50, 51, 56,\n",
              "        57, 59, 60, 66, 67, 69, 70, 71, 72, 74, 75, 77, 78, 81, 86, 89, 93,\n",
              "        96, 97, 99]),)"
            ]
          },
          "metadata": {},
          "execution_count": 159
        }
      ]
    },
    {
      "cell_type": "markdown",
      "source": [
        "**TASK-2G**"
      ],
      "metadata": {
        "id": "KLvwcwxmZUd4"
      }
    },
    {
      "cell_type": "code",
      "source": [
        "mu, sigma= 70, 15\n",
        "a=np.random.normal(mu, sigma, 1000)\n",
        "%matplotlib inline #first method\n",
        "import matplotlib.pyplot as plt\n",
        "plt.hist(a)\n",
        "plt.show()"
      ],
      "metadata": {
        "colab": {
          "base_uri": "https://localhost:8080/",
          "height": 265
        },
        "id": "cYy2ajIWZz4n",
        "outputId": "68a6f5c2-6b4d-48fa-a26f-34d4c9bf92f3"
      },
      "execution_count": null,
      "outputs": [
        {
          "output_type": "display_data",
          "data": {
            "image/png": "[encoded data removed]",
            "text/plain": [
              "<Figure size 432x288 with 1 Axes>"
            ]
          },
          "metadata": {
            "needs_background": "light"
          }
        }
      ]
    },
    {
      "cell_type": "markdown",
      "source": [
        "**TASK-2H**"
      ],
      "metadata": {
        "id": "Z6QqZpdkcjXL"
      }
    },
    {
      "cell_type": "code",
      "source": [
        "import numpy as np\n",
        "import pandas as pd\n",
        "import seaborn; seaborn.set() \n",
        "df=pd.DataFrame(np.array([  0,  41,  15,   0,   0,   3, 122,  97,  58,  43, 213,  15,   0,\n",
        "         0,   0,   0,   0,   0,   0,   0,   0,   5,   0,   0,   0,   0,\n",
        "         0,  89, 216,   0,  23,  20,   0,   0,   0,   0,   0,   0,  51,\n",
        "         5, 183, 170,  46,  18,  94, 117, 264, 145, 152,  10,  30,  28,\n",
        "        25,  61, 130,   3,   0,   0,   0,   5, 191, 107, 165, 467,  30,\n",
        "         0, 323,  43, 188,   0,   0,   5,  69,  81, 277,   3,   0,   5,\n",
        "         0,   0,   0,   0,   0,  41,  36,   3, 221, 140,   0,   0,   0,\n",
        "         0,  25,   0,  46,   0,   0,  46,   0,   0,   0,   0,   0,   0,\n",
        "         5, 109, 185,   0, 137,   0,  51, 142,  89, 124,   0,  33,  69,\n",
        "         0,   0,   0,   0,   0, 333, 160,  51,   0,   0, 137,  20,   5,\n",
        "         0,   0,   0,   0,   0,   0,   0,   0,   0,   0,   0,   0,  38,\n",
        "         0,  56,   0,   0,   0,   0,   0,   0,   0,   0,   0,   0,   0,\n",
        "         0,   0,   0,   0,   0,   0,  18,  64,   0,   5,  36,  13,   0,\n",
        "         8,   3,   0,   0,   0,   0,   0,   0,  18,  23,   0,   0,   0,\n",
        "         0,   0,   0,   0,   0,   0,   0,   0,   0,   0,   0,   0,   0,\n",
        "         0,   0,   0,   0,   0,   0,   0,   3, 193,   0,   0,   0,   0,\n",
        "         0,   0,   0,   0,   0,   5,   0,   0,   0,   0,   0,   0,   0,\n",
        "         0,   5, 127, 216,   0,  10,   0,   0,   0,   0,   0,   0,   0,\n",
        "         0,   0,   0,   0,   0,   0,   0,  84,  13,   0,  30,   0,   0,\n",
        "         0,   0,   0,   0,   0,   0,   0,   0,   0,   0,   0,   0,   5,\n",
        "         3,   0,   0,   0,   3, 183, 203,  43,  89,   0,   0,   8,   0,\n",
        "         0,   0,   0,   0,   0,   0,   0,   0,   0,   3,  74,   0,  76,\n",
        "        71,  86,   0,  33, 150,   0, 117,  10, 320,  94,  41,  61,  15,\n",
        "         8, 127,   5, 254, 170,   0,  18, 109,  41,  48,  41,   0,   0,\n",
        "        51,   0,   0,   0,   0,   0,   0,   0,   0,   0,   0,  36, 152,\n",
        "         5, 119,  13, 183,   3,  33, 343,  36,   0,   0,   0,   0,   8,\n",
        "        30,  74,   0,  91,  99, 130,  69,   0,   0,   0,   0,   0,  28,\n",
        "       130,  30, 196,   0,   0, 206,  53,   0,   0,  33,  41,   0,   0,\n",
        "         0]))\n",
        "inches= df/254.0 #1/10mm--> inches\n",
        "inches\n",
        "rainy=(inches > 0)\n",
        "rainy_days=inches[rainy].dropna()\n",
        "print(\"Rainy day: \",rainy_days) #Number days with rain\n",
        "without_rain_days=inches[~rainy].dropna()\n",
        "print(\"Without rainy days: \",without_rain_days) #Number days without rain\n",
        "bit_rain=(inches > 0.5)\n",
        "bit_days=inches[bit_rain].dropna()\n",
        "print(\"Bit days: \",bit_days) #Days with more than 0.5 inches\n",
        "bit_rainy=(rainy_days < 0.2)\n",
        "bit_rainydays=rainy_days[bit_rainy].dropna()\n",
        "print(\"Bit rainy days: \",bit_rainydays) #Rainy days with < 0.2 inches\n",
        "print(np.min(rainy_days))\n",
        "\n",
        "\n",
        "print(\"Summer mean: \", np.mean(inches[171:262]))\n",
        "print(\"Minimum precep of summer: \", np.min(inches[171:262]))\n",
        "print(\"Mean precip on Non summer rainy day: \", np.mean(rainy_days[~171:262]))\n",
        "print(\"Median precip on summer day: \", np.median(inches[171:262]))\n",
        "print(\"Maxiumum precip on summer day: \", np.max(inches[171:262]))\n",
        "print(\"Median precip on non-summer rainy days: \", np.median(rainy_days[~171:262]))\n",
        "\n",
        "print(\"Median precip on rainy days: \", np.median(rainy_days))\n"
      ],
      "metadata": {
        "colab": {
          "base_uri": "https://localhost:8080/"
        },
        "id": "-tOl7cNXcnhq",
        "outputId": "cc42e709-0535-4b11-bd5f-588eed533bfa"
      },
      "execution_count": null,
      "outputs": [
        {
          "output_type": "stream",
          "name": "stdout",
          "text": [
            "Rainy day:              0\n",
            "1    0.161417\n",
            "2    0.059055\n",
            "5    0.011811\n",
            "6    0.480315\n",
            "7    0.381890\n",
            "..        ...\n",
            "353  0.771654\n",
            "356  0.811024\n",
            "357  0.208661\n",
            "360  0.129921\n",
            "361  0.161417\n",
            "\n",
            "[150 rows x 1 columns]\n",
            "Without rainy days:         0\n",
            "0    0.0\n",
            "3    0.0\n",
            "4    0.0\n",
            "12   0.0\n",
            "13   0.0\n",
            "..   ...\n",
            "358  0.0\n",
            "359  0.0\n",
            "362  0.0\n",
            "363  0.0\n",
            "364  0.0\n",
            "\n",
            "[215 rows x 1 columns]\n",
            "Bit days:              0\n",
            "10   0.838583\n",
            "28   0.850394\n",
            "40   0.720472\n",
            "41   0.669291\n",
            "46   1.039370\n",
            "47   0.570866\n",
            "48   0.598425\n",
            "54   0.511811\n",
            "60   0.751969\n",
            "62   0.649606\n",
            "63   1.838583\n",
            "66   1.271654\n",
            "68   0.740157\n",
            "74   1.090551\n",
            "86   0.870079\n",
            "87   0.551181\n",
            "106  0.728346\n",
            "108  0.539370\n",
            "111  0.559055\n",
            "122  1.311024\n",
            "123  0.629921\n",
            "127  0.539370\n",
            "203  0.759843\n",
            "224  0.850394\n",
            "265  0.720472\n",
            "266  0.799213\n",
            "290  0.590551\n",
            "294  1.259843\n",
            "302  1.000000\n",
            "303  0.669291\n",
            "324  0.598425\n",
            "328  0.720472\n",
            "331  1.350394\n",
            "343  0.511811\n",
            "351  0.511811\n",
            "353  0.771654\n",
            "356  0.811024\n",
            "Bit rainy days:              0\n",
            "1    0.161417\n",
            "2    0.059055\n",
            "5    0.011811\n",
            "9    0.169291\n",
            "11   0.059055\n",
            "..        ...\n",
            "338  0.118110\n",
            "350  0.110236\n",
            "352  0.118110\n",
            "360  0.129921\n",
            "361  0.161417\n",
            "\n",
            "[75 rows x 1 columns]\n",
            "0    0.011811\n",
            "dtype: float64\n",
            "Summer mean:  0    0.031799\n",
            "dtype: float64\n",
            "Minimum precep of summer:  0    0.0\n",
            "dtype: float64\n",
            "Mean precip on Non summer rainy day:  0    0.32357\n",
            "dtype: float64\n",
            "Median precip on summer day:  0.0\n",
            "Maxiumum precip on summer day:  0    0.850394\n",
            "dtype: float64\n",
            "Median precip on non-summer rainy days:  0.19488188976377951\n",
            "Median precip on rainy days:  0.19488188976377951\n"
          ]
        }
      ]
    }
  ]
}